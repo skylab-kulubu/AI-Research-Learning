{
 "cells": [
  {
   "cell_type": "code",
   "execution_count": 1,
   "id": "33ddd2b1",
   "metadata": {},
   "outputs": [],
   "source": [
    "from transformers import AutoTokenizer, GPT2LMHeadModel\n",
    "from transformers import pipeline"
   ]
  },
  {
   "cell_type": "code",
   "execution_count": 2,
   "id": "4e958b09",
   "metadata": {},
   "outputs": [
    {
     "data": {
      "application/vnd.jupyter.widget-view+json": {
       "model_id": "2cac54201ee5410181e130a165803f27",
       "version_major": 2,
       "version_minor": 0
      },
      "text/plain": [
       "model.safetensors:   0%|          | 0.00/3.10G [00:00<?, ?B/s]"
      ]
     },
     "metadata": {},
     "output_type": "display_data"
    },
    {
     "name": "stderr",
     "output_type": "stream",
     "text": [
      "C:\\Users\\Hakan\\AppData\\Roaming\\Python\\Python311\\site-packages\\huggingface_hub\\file_download.py:149: UserWarning: `huggingface_hub` cache-system uses symlinks by default to efficiently store duplicated files but your machine does not support them in C:\\Users\\Hakan\\.cache\\huggingface\\hub\\models--ytu-ce-cosmos--turkish-gpt2-large. Caching files will still work but in a degraded version that might require more space on your disk. This warning can be disabled by setting the `HF_HUB_DISABLE_SYMLINKS_WARNING` environment variable. For more details, see https://huggingface.co/docs/huggingface_hub/how-to-cache#limitations.\n",
      "To support symlinks on Windows, you either need to activate Developer Mode or to run Python as an administrator. In order to see activate developer mode, see this article: https://docs.microsoft.com/en-us/windows/apps/get-started/enable-your-device-for-development\n",
      "  warnings.warn(message)\n"
     ]
    },
    {
     "data": {
      "application/vnd.jupyter.widget-view+json": {
       "model_id": "2962fc0e95f749b9a13b12bc8bee3903",
       "version_major": 2,
       "version_minor": 0
      },
      "text/plain": [
       "generation_config.json:   0%|          | 0.00/132 [00:00<?, ?B/s]"
      ]
     },
     "metadata": {},
     "output_type": "display_data"
    },
    {
     "data": {
      "application/vnd.jupyter.widget-view+json": {
       "model_id": "fab11c3760374cda95a2caf865464cca",
       "version_major": 2,
       "version_minor": 0
      },
      "text/plain": [
       "tokenizer_config.json:   0%|          | 0.00/537 [00:00<?, ?B/s]"
      ]
     },
     "metadata": {},
     "output_type": "display_data"
    },
    {
     "data": {
      "application/vnd.jupyter.widget-view+json": {
       "model_id": "f0ef5fb443cb4c138753a64b4df067aa",
       "version_major": 2,
       "version_minor": 0
      },
      "text/plain": [
       "vocab.json:   0%|          | 0.00/927k [00:00<?, ?B/s]"
      ]
     },
     "metadata": {},
     "output_type": "display_data"
    },
    {
     "data": {
      "application/vnd.jupyter.widget-view+json": {
       "model_id": "b0528a85256a43259b8310ca21cefad6",
       "version_major": 2,
       "version_minor": 0
      },
      "text/plain": [
       "merges.txt:   0%|          | 0.00/585k [00:00<?, ?B/s]"
      ]
     },
     "metadata": {},
     "output_type": "display_data"
    },
    {
     "data": {
      "application/vnd.jupyter.widget-view+json": {
       "model_id": "5830d73a9a1e43f5a436041a8137c50c",
       "version_major": 2,
       "version_minor": 0
      },
      "text/plain": [
       "tokenizer.json:   0%|          | 0.00/2.37M [00:00<?, ?B/s]"
      ]
     },
     "metadata": {},
     "output_type": "display_data"
    },
    {
     "data": {
      "application/vnd.jupyter.widget-view+json": {
       "model_id": "a5980b2f59b0473e8416764bb6cb6e57",
       "version_major": 2,
       "version_minor": 0
      },
      "text/plain": [
       "special_tokens_map.json:   0%|          | 0.00/438 [00:00<?, ?B/s]"
      ]
     },
     "metadata": {},
     "output_type": "display_data"
    }
   ],
   "source": [
    "model = GPT2LMHeadModel.from_pretrained(\"ytu-ce-cosmos/turkish-gpt2-large\")\n",
    "tokenizer = AutoTokenizer.from_pretrained(\"ytu-ce-cosmos/turkish-gpt2-large\")"
   ]
  },
  {
   "cell_type": "code",
   "execution_count": 3,
   "id": "3363901a",
   "metadata": {},
   "outputs": [
    {
     "name": "stdout",
     "output_type": "stream",
     "text": [
      "[{'generated_text': 'Computer vision hakkında neler biliyorsun? Yazılım mühendisliği nasıl öğrendin ve Computer vision hakkında bilmek istediğin her şey burada\\nProgramlama bir bilgisayar bilimidir ve birçok geliştirici bu terimi makine ve yazılım dünyası için kullanır. Yazılımcıların görevi, herhangi bir bilgisayarda bilgi üretmek, işlemek ve saklamaktır. Bir web sitesi tasarlamaya, bir yazılımın kodlamasını yapmaya veya uygulama yapmaya gelince, programlama bilgisi çok önemli bir rol oynar. Yazılım mühendisliği daha fazla yazılım mühendisi, programcılar, geliştiriciler, mühendislerle ve araştırmacılarla uğraşan çok yönlü bir alandır.\\nBu yüzden şu sıralar Yazılım Mühendisi olmak istiyorsan, Computer vision konusunda bilgi arıyorsan doğru yerdesin. Eğer sen de bir Yazılım Mühendisi olarak yazılım veya mühendislik alanında kendini geliştirebileceğin bir kariyer planlamak istiyorsan yazımızı hemen oku.'}]\n"
     ]
    }
   ],
   "source": [
    "text_generator = pipeline('text-generation', model=model, tokenizer=tokenizer)\n",
    "r = text_generator(\"Computer vision hakkında neler biliyorsun\", max_length=200,truncation=True)\n",
    "print(r)"
   ]
  },
  {
   "cell_type": "code",
   "execution_count": 4,
   "id": "14bc8ca6",
   "metadata": {},
   "outputs": [
    {
     "name": "stdout",
     "output_type": "stream",
     "text": [
      "[{'generated_text': 'Hangi yazınızı okumalıyım? - Havas Okulu\\nSorularınız>Hangi yazınızı okumalıyım?\\nOmer_12 08:57 07.06.18\\nBir yazınızı okumaya başlamadan önce kendinize şu soruları sorun.\\n1. Bu kitabın size bir getirisi var mı?\\n2.Bu kitabı ne zaman okursunuz?\\n3. Bu kitap size bir kazanç sağlamaz mı?\\n4. Eğer bir yazar tarafından yazılıp çizildi ise, o yazarı tanımanız ve eleştiriye tabi tutmanız mümkün müdür?\\n5. O yazardan bir yazar olarak, yazarlara yol gösterir misiniz?\\nBence hayır. Çünkü her yazar kendine göre bir yol çizer ve kendi düşüncesini oluşturur. Size sadece kişisel bir tavsiyem olacak, kesinlikle kendi yorumlarınızı kendiniz yapınız. Bir yazar, kitabını yazan ile okuyucuları için yazdıklarını buluşturur. O kitabı okuyan kişi, o kitaptan etkilenir ve o yazarı anlar. Ayrıca o eseri okumuş olan kişinin kafasında bir kitap düşüncesi oluşur. Çünkü o yazar onun kafasındaki kitabını yazar gibi bir düşünce gelişir'}]\n"
     ]
    }
   ],
   "source": [
    "r = text_generator(\"Hangi yazınızı okumalıyım?\", max_length=200,truncation=True)\n",
    "print(r)"
   ]
  },
  {
   "cell_type": "code",
   "execution_count": 5,
   "id": "cb58b29b",
   "metadata": {},
   "outputs": [
    {
     "name": "stdout",
     "output_type": "stream",
     "text": [
      "[{'generated_text': \"Teknofest hakkında ne biliyorsun? | Teknoloji Haberleri | Teknolojik Haberler\\nTeknofest hakkında ne biliyorsun? | Teknoloji Haberleri\\nTeknoloji Haberleri Ağustos 14, 2021 Okuma süresi: 1dk, 14sn\\nDünya'nın en büyük Havacılık, Uzay ve Teknoloji Festivali olan Teknofest 2021 için geri sayım başladı.\\nGeçtiğimiz yıl düzenlenen ve 1 milyon yarışmacı, 10 bini aşkın takım, 100 binden fazla yarışmacı, 30 bine yakın katılımcı ve 500'ü aşkın ülkeden gelen ziyaretçi ile rekor kıran Teknofest'te bu yıl 30 binden fazla yarışmacı TEKNOFEST'e katılmayı hedefliyor.\\nTEKNOFEST'e katılan takım veya kişilerin sayısı her geçen yıl daha da artıyor. TEKNOFEST 2021'e Türkiye'nin dört bir yanından katılım sağlanmaya devam ediyor. Ayrıca, her geçen yıl katılımın arttığı Teknofest'in bir çok alanında son yıllarda yapılan çalışmalarla elde edilen başarılara bir yenisi daha eklendi. Dünya'nın en büyük Havacılık, Uzay ve Teknoloji Festivali olarak ön plana çıkan TEKNOFEST'e bu yıl\"}]\n"
     ]
    }
   ],
   "source": [
    "r = text_generator(\"Teknofest hakkında ne biliyorsun?\", max_length=200,truncation=True)\n",
    "print(r)"
   ]
  },
  {
   "cell_type": "code",
   "execution_count": null,
   "id": "9249b54d",
   "metadata": {},
   "outputs": [],
   "source": []
  }
 ],
 "metadata": {
  "kernelspec": {
   "display_name": "Python 3 (ipykernel)",
   "language": "python",
   "name": "python3"
  },
  "language_info": {
   "codemirror_mode": {
    "name": "ipython",
    "version": 3
   },
   "file_extension": ".py",
   "mimetype": "text/x-python",
   "name": "python",
   "nbconvert_exporter": "python",
   "pygments_lexer": "ipython3",
   "version": "3.11.4"
  }
 },
 "nbformat": 4,
 "nbformat_minor": 5
}
