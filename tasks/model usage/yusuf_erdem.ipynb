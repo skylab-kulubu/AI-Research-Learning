{
 "cells": [
  {
   "cell_type": "code",
   "execution_count": 15,
   "metadata": {},
   "outputs": [
    {
     "name": "stdout",
     "output_type": "stream",
     "text": [
      "WARNING:tensorflow:From c:\\Users\\yusuf\\AppData\\Local\\Programs\\Python\\Python311\\Lib\\site-packages\\keras\\src\\losses.py:2976: The name tf.losses.sparse_softmax_cross_entropy is deprecated. Please use tf.compat.v1.losses.sparse_softmax_cross_entropy instead.\n",
      "\n"
     ]
    }
   ],
   "source": [
    "from transformers import pipeline, set_seed"
   ]
  },
  {
   "cell_type": "code",
   "execution_count": 16,
   "metadata": {},
   "outputs": [],
   "source": [
    "generator = pipeline('text-generation', model='gpt2')"
   ]
  },
  {
   "cell_type": "code",
   "execution_count": 44,
   "metadata": {},
   "outputs": [
    {
     "name": "stderr",
     "output_type": "stream",
     "text": [
      "Setting `pad_token_id` to `eos_token_id`:50256 for open-end generation.\n"
     ]
    }
   ],
   "source": [
    "sequences = 5\n",
    "results = generator(\"As a language model, i must\", max_length=30, num_return_sequences=sequences)\n",
    "\n",
    "# Rerun this cell to generate new results."
   ]
  },
  {
   "cell_type": "code",
   "execution_count": 45,
   "metadata": {},
   "outputs": [
    {
     "name": "stdout",
     "output_type": "stream",
     "text": [
      "Generated text 1: As a language model, i must note that all the examples given by the English learners take into account the context when they are presented. However, when\n",
      "\n",
      "Generated text 2: As a language model, i must make it clear that the \"class\" of languages is not \"classifiers\" — no, a language is simply\n",
      "\n",
      "Generated text 3: As a language model, i must note that in the same language, the difference between its value and the value of the function is the same. Thus\n",
      "\n",
      "Generated text 4: As a language model, i must also be able to do some kind of proof that i can use these things. And this is a major problem in\n",
      "\n",
      "Generated text 5: As a language model, i must be able to take one of these types of results as its property, and the results and their properties need to represent\n",
      "\n"
     ]
    }
   ],
   "source": [
    "for i in range(sequences):\n",
    "    text = results[i].get(\"generated_text\")\n",
    "    print(f\"Generated text {i+1}: {text}\\n\")"
   ]
  },
  {
   "cell_type": "code",
   "execution_count": null,
   "metadata": {},
   "outputs": [],
   "source": []
  }
 ],
 "metadata": {
  "kernelspec": {
   "display_name": "Python 3",
   "language": "python",
   "name": "python3"
  },
  "language_info": {
   "codemirror_mode": {
    "name": "ipython",
    "version": 3
   },
   "file_extension": ".py",
   "mimetype": "text/x-python",
   "name": "python",
   "nbconvert_exporter": "python",
   "pygments_lexer": "ipython3",
   "version": "3.11.0"
  }
 },
 "nbformat": 4,
 "nbformat_minor": 2
}
