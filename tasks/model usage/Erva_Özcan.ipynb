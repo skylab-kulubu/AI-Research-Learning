{
 "cells": [
  {
   "cell_type": "code",
   "execution_count": null,
   "metadata": {},
   "outputs": [],
   "source": [
    "from transformers import AutoTokenizer, GPT2LMHeadModel\n",
    "from transformers import pipeline"
   ]
  },
  {
   "cell_type": "code",
   "execution_count": 2,
   "metadata": {},
   "outputs": [],
   "source": [
    "model = GPT2LMHeadModel.from_pretrained(\"ytu-ce-cosmos/turkish-gpt2-large\")\n",
    "tokenizer = AutoTokenizer.from_pretrained(\"ytu-ce-cosmos/turkish-gpt2-large\")"
   ]
  },
  {
   "cell_type": "code",
   "execution_count": 3,
   "metadata": {},
   "outputs": [
    {
     "name": "stdout",
     "output_type": "stream",
     "text": [
      "[{'generated_text': 'Matematiğin hayatımızdaki önemi.  Matematik nedir? Matematik nasıl okunur? Matematik öğrenmek nedir?Matematik öğrenmek için ne yapmalı? Matematik öğrenmek için ne yapmalı?\\nMatematik nasıl öğrenilir? 1-Her zaman kendinize güvenmelisiniz. Siz bu hayatta neler başarabilirsiniz?\\n2-Bir sorunun çözüm yolunu bulursanız, onu çözümlemek daha kolaydır. Matematikte de bir sorun vardır. O da çözümü bulmakta zorluk çekmenizdir.\\n3-Matematikte, bir problemi çözerken o sorunun çözüm yolunu bulursanız, o problem de daha kolay çözülmeye başlayacaktır. Çünkü çözüm yolunu bulduğunuzda problem daha kolay olarak çözülür.\\n4-Matematik, çok ciddi bir konudur. Matematik dersinden çok iyi anlamalısınız. Size ne yapmanız gerektiğini söyler, sonra da bunu yapmak için neyi'}]\n"
     ]
    }
   ],
   "source": [
    "text_generator = pipeline('text-generation', model=model, tokenizer=tokenizer)\n",
    "result = text_generator(\"Matematiğin hayatımızdaki önemi nedir? \", max_length=150, truncation=True)\n",
    "print(result)"
   ]
  }
 ],
 "metadata": {
  "kernelspec": {
   "display_name": "Python 3",
   "language": "python",
   "name": "python3"
  },
  "language_info": {
   "codemirror_mode": {
    "name": "ipython",
    "version": 3
   },
   "file_extension": ".py",
   "mimetype": "text/x-python",
   "name": "python",
   "nbconvert_exporter": "python",
   "pygments_lexer": "ipython3",
   "version": "3.11.5"
  }
 },
 "nbformat": 4,
 "nbformat_minor": 2
}
