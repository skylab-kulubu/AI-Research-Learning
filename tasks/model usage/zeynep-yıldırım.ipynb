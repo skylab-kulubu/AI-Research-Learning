{
 "cells": [
  {
   "cell_type": "code",
   "execution_count": 4,
   "metadata": {},
   "outputs": [],
   "source": [
    "from transformers import AutoTokenizer, GPT2LMHeadModel\n",
    "from transformers import pipeline"
   ]
  },
  {
   "cell_type": "code",
   "execution_count": 5,
   "metadata": {},
   "outputs": [],
   "source": [
    "model = GPT2LMHeadModel.from_pretrained(\"ytu-ce-cosmos/turkish-gpt2-large\")\n",
    "tokenizer = AutoTokenizer.from_pretrained(\"ytu-ce-cosmos/turkish-gpt2-large\")\n"
   ]
  },
  {
   "cell_type": "code",
   "execution_count": 6,
   "metadata": {},
   "outputs": [
    {
     "name": "stdout",
     "output_type": "stream",
     "text": [
      "[{'generated_text': 'Yapay zekanın gelişimi hakkında ne düşünüyorsun? Yeni teknolojilere karşı geliştirilmeyi bekleyen bu ilginç teknolojileri bize anlatır mısın?\\nTeknoloji geliştikçe yapay zeka (AI) kavramı popülerlik kazanmaya devam ediyor. Bu kavram insanların sosyal hayatlarındaki her şeyi daha kolay ve akıllı hale getirmek için geliştirildi. Yapay zeka ve AI gibi kavramları sıklıkla duyduğumuzda aklıma ilk gelen, insanların daha üretken ve daha mutlu hale gelmeleri için teknolojinin geliştirilmeye devam edeceği gerçeğidir. Yapay zekayı insanların hayatlarını olumlu yönde etkileyecek önemli bir inovasyon olarak görüyoruz.\\nİnsanlar artık yapay zekanın geliştirilme aşamasında olan yeni uygulamaları, uygulamaları veya ürünleri daha az vakit harcayarak ve daha az efor harcayarak kullanacaklarını ve kendi işlerini daha kolay bir şekilde organize edebileceklerini düşünüyorlar. Yapay zeka ve AI’nın yeni bir şey olmadığı bir dünyadayız. Yapay zekanın gelişmesi için bazı temel teknolojik gelişmelerin olduğunu görüyoruz. Bunlardan biri de 3 boyutlu yazıcılardır. Son olarak ortaya çıkan bir yapay zeka modeli olan DeepMind, insanların kendi zekasını programlamalarına ve analiz etmelerine olanak sağlıyor, bu'}]\n"
     ]
    }
   ],
   "source": [
    "text_generator = pipeline('text-generation', model=model, tokenizer=tokenizer)\n",
    "r = text_generator(\"Yapay zekanın gelişimi hakkında ne düşünüyorsun?\", max_length=200,truncation=True)\n",
    "print(r)"
   ]
  }
 ],
 "metadata": {
  "kernelspec": {
   "display_name": "Python 3",
   "language": "python",
   "name": "python3"
  },
  "language_info": {
   "codemirror_mode": {
    "name": "ipython",
    "version": 3
   },
   "file_extension": ".py",
   "mimetype": "text/x-python",
   "name": "python",
   "nbconvert_exporter": "python",
   "pygments_lexer": "ipython3",
   "version": "3.10.0"
  }
 },
 "nbformat": 4,
 "nbformat_minor": 2
}
