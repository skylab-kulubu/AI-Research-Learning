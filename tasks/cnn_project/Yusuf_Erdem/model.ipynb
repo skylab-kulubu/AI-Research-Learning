{
 "cells": [
  {
   "cell_type": "code",
   "execution_count": 1,
   "metadata": {},
   "outputs": [
    {
     "name": "stdout",
     "output_type": "stream",
     "text": [
      "WARNING:tensorflow:From c:\\Users\\yusuf\\AppData\\Local\\Programs\\Python\\Python311\\Lib\\site-packages\\keras\\src\\losses.py:2976: The name tf.losses.sparse_softmax_cross_entropy is deprecated. Please use tf.compat.v1.losses.sparse_softmax_cross_entropy instead.\n",
      "\n"
     ]
    }
   ],
   "source": [
    "import tensorflow as tf\n",
    "import cv2\n",
    "import matplotlib.pyplot as plt\n",
    "import numpy as np\n",
    "import os"
   ]
  },
  {
   "cell_type": "code",
   "execution_count": 2,
   "metadata": {},
   "outputs": [
    {
     "data": {
      "text/plain": [
       "242"
      ]
     },
     "execution_count": 2,
     "metadata": {},
     "output_type": "execute_result"
    }
   ],
   "source": [
    "spec = cv2.imread(\"specs/class0/1.png\", 0)\n",
    "#plt.imshow(spec, cmap=\"gray\")\n",
    "spec.max()"
   ]
  },
  {
   "cell_type": "code",
   "execution_count": 3,
   "metadata": {},
   "outputs": [
    {
     "name": "stdout",
     "output_type": "stream",
     "text": [
      "len(images) = 8732\n",
      "len(labels) = 8732\n"
     ]
    }
   ],
   "source": [
    "images = []\n",
    "labels = []\n",
    "\n",
    "for i in range(10):\n",
    "    path = \"specs/class\" + str(i)\n",
    "    num = len(os.listdir(path))\n",
    "    for j in range(num):\n",
    "        img_path = path + \"/\" + str(j) + \".png\"\n",
    "        img = cv2.imread(img_path, 0)\n",
    "        img = img / 255\n",
    "        images.append(img)\n",
    "        labels.append(i)\n",
    "\n",
    "images = np.array(images)\n",
    "labels = np.array(labels)\n",
    "\n",
    "print(f\"len(images) = {len(images)}\")\n",
    "print(f\"len(labels) = {len(labels)}\")"
   ]
  },
  {
   "cell_type": "code",
   "execution_count": 4,
   "metadata": {},
   "outputs": [
    {
     "data": {
      "text/plain": [
       "(8732, 100, 100)"
      ]
     },
     "execution_count": 4,
     "metadata": {},
     "output_type": "execute_result"
    }
   ],
   "source": [
    "images.shape"
   ]
  },
  {
   "cell_type": "code",
   "execution_count": 5,
   "metadata": {},
   "outputs": [
    {
     "name": "stdout",
     "output_type": "stream",
     "text": [
      "(6549, 100, 100) (6549,) (2183, 100, 100) (2183,)\n",
      "(6549, 100, 100, 1) (6549,) (2183, 100, 100, 1) (2183,)\n"
     ]
    }
   ],
   "source": [
    "from sklearn.model_selection import train_test_split\n",
    "\n",
    "train_size = 0.75\n",
    "x_train, x_test, y_train, y_test = train_test_split(images, labels, train_size=train_size)\n",
    "print(x_train.shape, y_train.shape, x_test.shape, y_test.shape)\n",
    "\n",
    "#x_test, x_dev, y_test, y_dev = train_test_split(x_test, y_test)\n",
    "\n",
    "x_train = x_train.reshape(int(len(images)*train_size), 100, 100, 1)\n",
    "x_test = x_test.reshape(int(len(images)*(1-train_size)), 100, 100, 1)\n",
    "print(x_train.shape, y_train.shape, x_test.shape, y_test.shape)\n",
    "#plt.imshow(x_train[0], cmap=\"gray\")"
   ]
  },
  {
   "cell_type": "code",
   "execution_count": 6,
   "metadata": {},
   "outputs": [
    {
     "name": "stdout",
     "output_type": "stream",
     "text": [
      "(6549, 10) [0. 0. 0. 0. 1. 0. 0. 0. 0. 0.]\n"
     ]
    }
   ],
   "source": [
    "from keras.utils import to_categorical\n",
    "\n",
    "y_cat_train = to_categorical(y_train, 10)\n",
    "print(y_cat_train.shape, y_cat_train[0])\n",
    "\n",
    "y_cat_test = to_categorical(y_test, 10)"
   ]
  },
  {
   "cell_type": "code",
   "execution_count": 13,
   "metadata": {},
   "outputs": [],
   "source": [
    "from keras.models import Sequential\n",
    "from keras.layers import Dense, Flatten, Conv2D, MaxPool2D, Dropout\n",
    "from keras.losses import categorical_crossentropy\n",
    "import warnings\n",
    "warnings.filterwarnings(\"ignore\")"
   ]
  },
  {
   "cell_type": "code",
   "execution_count": 25,
   "metadata": {},
   "outputs": [],
   "source": [
    "# Let's compare 4 different architectures, from simple to more complex.\n",
    "\n",
    "img_shape = (100, 100, 1)\n",
    "model1 = Sequential([\n",
    "    Conv2D(filters=32, kernel_size=(4, 4), input_shape=img_shape, activation='relu'),\n",
    "    MaxPool2D(pool_size=(2, 2)),\n",
    "    Conv2D(filters=32, kernel_size=(4, 4), activation='relu'),\n",
    "    MaxPool2D(pool_size=(2, 2)),\n",
    "    Flatten(),\n",
    "    Dense(128, activation='relu'),\n",
    "    Dense(10, activation='softmax')\n",
    "])\n",
    "\n",
    "model1.compile(optimizer=\"adam\", loss=categorical_crossentropy, metrics=['accuracy'])\n",
    "\n",
    "model2 = Sequential([\n",
    "    Conv2D(filters=64, kernel_size=(4, 4), input_shape=img_shape, activation='relu'),\n",
    "    MaxPool2D(pool_size=(2, 2)),\n",
    "    Conv2D(filters=64, kernel_size=(4, 4), activation='relu'),\n",
    "    MaxPool2D(pool_size=(2, 2)),\n",
    "    Flatten(),\n",
    "    Dense(256, activation='relu'),\n",
    "    Dense(10, activation='softmax')\n",
    "])\n",
    "\n",
    "model2.compile(optimizer=\"adam\", loss=categorical_crossentropy, metrics=['accuracy'])\n",
    "\n",
    "model3 = Sequential([\n",
    "    Conv2D(filters=64, kernel_size=(4, 4), input_shape=img_shape, activation='relu'),\n",
    "    MaxPool2D(pool_size=(2, 2)),\n",
    "    Conv2D(filters=64, kernel_size=(4, 4), activation='relu'),\n",
    "    MaxPool2D(pool_size=(2, 2)),\n",
    "    Flatten(),\n",
    "    Dense(256, activation='relu'),\n",
    "    Dense(128, activation='relu'),\n",
    "    Dense(10, activation='softmax')\n",
    "])\n",
    "\n",
    "model3.compile(optimizer=\"adam\", loss=categorical_crossentropy, metrics=['accuracy'])\n",
    "\n",
    "model4 = Sequential([\n",
    "    Conv2D(filters=64, kernel_size=(4, 4), input_shape=img_shape, activation='relu'),\n",
    "    MaxPool2D(pool_size=(2, 2)),\n",
    "    Conv2D(filters=64, kernel_size=(4, 4), input_shape=img_shape, activation='relu'),\n",
    "    MaxPool2D(pool_size=(2, 2)),\n",
    "    Conv2D(filters=64, kernel_size=(4, 4), activation='relu'),\n",
    "    MaxPool2D(pool_size=(2, 2)),\n",
    "    Flatten(),\n",
    "    Dense(256, activation='relu'),\n",
    "    #QUESTIN: is adding the following line better? Or when does it become better?\n",
    "    #Dropout(rate=0.5),\n",
    "    Dense(64, activation='relu'),\n",
    "    Dense(10, activation='softmax')\n",
    "])\n",
    "\n",
    "model4.compile(optimizer=\"adam\", loss=categorical_crossentropy, metrics=['accuracy'])\n"
   ]
  },
  {
   "cell_type": "code",
   "execution_count": 26,
   "metadata": {},
   "outputs": [
    {
     "name": "stdout",
     "output_type": "stream",
     "text": [
      "Model: \"sequential_16\"\n",
      "_________________________________________________________________\n",
      " Layer (type)                Output Shape              Param #   \n",
      "=================================================================\n",
      " conv2d_36 (Conv2D)          (None, 97, 97, 32)        544       \n",
      "                                                                 \n",
      " max_pooling2d_36 (MaxPooli  (None, 48, 48, 32)        0         \n",
      " ng2D)                                                           \n",
      "                                                                 \n",
      " conv2d_37 (Conv2D)          (None, 45, 45, 32)        16416     \n",
      "                                                                 \n",
      " max_pooling2d_37 (MaxPooli  (None, 22, 22, 32)        0         \n",
      " ng2D)                                                           \n",
      "                                                                 \n",
      " flatten_16 (Flatten)        (None, 15488)             0         \n",
      "                                                                 \n",
      " dense_40 (Dense)            (None, 128)               1982592   \n",
      "                                                                 \n",
      " dense_41 (Dense)            (None, 10)                1290      \n",
      "                                                                 \n",
      "=================================================================\n",
      "Total params: 2000842 (7.63 MB)\n",
      "Trainable params: 2000842 (7.63 MB)\n",
      "Non-trainable params: 0 (0.00 Byte)\n",
      "_________________________________________________________________\n"
     ]
    }
   ],
   "source": [
    "model1.summary()"
   ]
  },
  {
   "cell_type": "code",
   "execution_count": 27,
   "metadata": {},
   "outputs": [
    {
     "name": "stdout",
     "output_type": "stream",
     "text": [
      "Model: \"sequential_17\"\n",
      "_________________________________________________________________\n",
      " Layer (type)                Output Shape              Param #   \n",
      "=================================================================\n",
      " conv2d_38 (Conv2D)          (None, 97, 97, 64)        1088      \n",
      "                                                                 \n",
      " max_pooling2d_38 (MaxPooli  (None, 48, 48, 64)        0         \n",
      " ng2D)                                                           \n",
      "                                                                 \n",
      " conv2d_39 (Conv2D)          (None, 45, 45, 64)        65600     \n",
      "                                                                 \n",
      " max_pooling2d_39 (MaxPooli  (None, 22, 22, 64)        0         \n",
      " ng2D)                                                           \n",
      "                                                                 \n",
      " flatten_17 (Flatten)        (None, 30976)             0         \n",
      "                                                                 \n",
      " dense_42 (Dense)            (None, 256)               7930112   \n",
      "                                                                 \n",
      " dense_43 (Dense)            (None, 10)                2570      \n",
      "                                                                 \n",
      "=================================================================\n",
      "Total params: 7999370 (30.52 MB)\n",
      "Trainable params: 7999370 (30.52 MB)\n",
      "Non-trainable params: 0 (0.00 Byte)\n",
      "_________________________________________________________________\n"
     ]
    }
   ],
   "source": [
    "model2.summary()"
   ]
  },
  {
   "cell_type": "code",
   "execution_count": 28,
   "metadata": {},
   "outputs": [
    {
     "name": "stdout",
     "output_type": "stream",
     "text": [
      "Model: \"sequential_18\"\n",
      "_________________________________________________________________\n",
      " Layer (type)                Output Shape              Param #   \n",
      "=================================================================\n",
      " conv2d_40 (Conv2D)          (None, 97, 97, 64)        1088      \n",
      "                                                                 \n",
      " max_pooling2d_40 (MaxPooli  (None, 48, 48, 64)        0         \n",
      " ng2D)                                                           \n",
      "                                                                 \n",
      " conv2d_41 (Conv2D)          (None, 45, 45, 64)        65600     \n",
      "                                                                 \n",
      " max_pooling2d_41 (MaxPooli  (None, 22, 22, 64)        0         \n",
      " ng2D)                                                           \n",
      "                                                                 \n",
      " flatten_18 (Flatten)        (None, 30976)             0         \n",
      "                                                                 \n",
      " dense_44 (Dense)            (None, 256)               7930112   \n",
      "                                                                 \n",
      " dense_45 (Dense)            (None, 128)               32896     \n",
      "                                                                 \n",
      " dense_46 (Dense)            (None, 10)                1290      \n",
      "                                                                 \n",
      "=================================================================\n",
      "Total params: 8030986 (30.64 MB)\n",
      "Trainable params: 8030986 (30.64 MB)\n",
      "Non-trainable params: 0 (0.00 Byte)\n",
      "_________________________________________________________________\n"
     ]
    }
   ],
   "source": [
    "model3.summary()"
   ]
  },
  {
   "cell_type": "code",
   "execution_count": 23,
   "metadata": {},
   "outputs": [
    {
     "name": "stdout",
     "output_type": "stream",
     "text": [
      "Model: \"sequential_15\"\n",
      "_________________________________________________________________\n",
      " Layer (type)                Output Shape              Param #   \n",
      "=================================================================\n",
      " conv2d_33 (Conv2D)          (None, 97, 97, 64)        1088      \n",
      "                                                                 \n",
      " max_pooling2d_33 (MaxPooli  (None, 48, 48, 64)        0         \n",
      " ng2D)                                                           \n",
      "                                                                 \n",
      " conv2d_34 (Conv2D)          (None, 45, 45, 64)        65600     \n",
      "                                                                 \n",
      " max_pooling2d_34 (MaxPooli  (None, 22, 22, 64)        0         \n",
      " ng2D)                                                           \n",
      "                                                                 \n",
      " conv2d_35 (Conv2D)          (None, 19, 19, 64)        65600     \n",
      "                                                                 \n",
      " max_pooling2d_35 (MaxPooli  (None, 9, 9, 64)          0         \n",
      " ng2D)                                                           \n",
      "                                                                 \n",
      " flatten_15 (Flatten)        (None, 5184)              0         \n",
      "                                                                 \n",
      " dense_37 (Dense)            (None, 256)               1327360   \n",
      "                                                                 \n",
      " dense_38 (Dense)            (None, 64)                16448     \n",
      "                                                                 \n",
      " dense_39 (Dense)            (None, 10)                650       \n",
      "                                                                 \n",
      "=================================================================\n",
      "Total params: 1476746 (5.63 MB)\n",
      "Trainable params: 1476746 (5.63 MB)\n",
      "Non-trainable params: 0 (0.00 Byte)\n",
      "_________________________________________________________________\n"
     ]
    }
   ],
   "source": [
    "model4.summary()"
   ]
  },
  {
   "cell_type": "code",
   "execution_count": 38,
   "metadata": {},
   "outputs": [
    {
     "name": "stdout",
     "output_type": "stream",
     "text": [
      "TRAINING MODEL 1\n",
      "\n",
      "Epoch 1/5\n",
      "205/205 [==============================] - 7s 32ms/step - loss: 0.1037 - accuracy: 0.9696\n",
      "Epoch 2/5\n",
      "205/205 [==============================] - 7s 32ms/step - loss: 0.0705 - accuracy: 0.9803\n",
      "Epoch 3/5\n",
      "205/205 [==============================] - 6s 31ms/step - loss: 0.0572 - accuracy: 0.9841\n",
      "Epoch 4/5\n",
      "205/205 [==============================] - 6s 31ms/step - loss: 0.0377 - accuracy: 0.9901\n",
      "Epoch 5/5\n",
      "205/205 [==============================] - 6s 31ms/step - loss: 0.0439 - accuracy: 0.9878\n",
      "TRAINING MODEL 2\n",
      "\n",
      "Epoch 1/5\n",
      "205/205 [==============================] - 20s 99ms/step - loss: 0.0674 - accuracy: 0.9792\n",
      "Epoch 2/5\n",
      "205/205 [==============================] - 20s 100ms/step - loss: 0.0659 - accuracy: 0.9818\n",
      "Epoch 3/5\n",
      "205/205 [==============================] - 20s 100ms/step - loss: 0.0881 - accuracy: 0.9750\n",
      "Epoch 4/5\n",
      "205/205 [==============================] - 20s 100ms/step - loss: 0.0384 - accuracy: 0.9896\n",
      "Epoch 5/5\n",
      "205/205 [==============================] - 20s 100ms/step - loss: 0.0215 - accuracy: 0.9948\n",
      "TRAINING MODEL 3\n",
      "\n",
      "Epoch 1/5\n",
      "205/205 [==============================] - 21s 101ms/step - loss: 0.0783 - accuracy: 0.9743\n",
      "Epoch 2/5\n",
      "205/205 [==============================] - 21s 100ms/step - loss: 0.0465 - accuracy: 0.9858\n",
      "Epoch 3/5\n",
      "205/205 [==============================] - 21s 100ms/step - loss: 0.0291 - accuracy: 0.9901\n",
      "Epoch 4/5\n",
      "205/205 [==============================] - 21s 100ms/step - loss: 0.0346 - accuracy: 0.9885\n",
      "Epoch 5/5\n",
      "205/205 [==============================] - 21s 100ms/step - loss: 0.0504 - accuracy: 0.9855\n",
      "TRAINING MODEL 4\n",
      "\n",
      "Epoch 1/5\n",
      "205/205 [==============================] - 16s 76ms/step - loss: 0.1927 - accuracy: 0.9346\n",
      "Epoch 2/5\n",
      "205/205 [==============================] - 16s 76ms/step - loss: 0.1475 - accuracy: 0.9536\n",
      "Epoch 3/5\n",
      "205/205 [==============================] - 16s 76ms/step - loss: 0.1416 - accuracy: 0.9545\n",
      "Epoch 4/5\n",
      "205/205 [==============================] - 16s 77ms/step - loss: 0.0698 - accuracy: 0.9757\n",
      "Epoch 5/5\n",
      "205/205 [==============================] - 16s 76ms/step - loss: 0.0821 - accuracy: 0.9736\n"
     ]
    },
    {
     "data": {
      "text/plain": [
       "<keras.src.callbacks.History at 0x1f006881350>"
      ]
     },
     "execution_count": 38,
     "metadata": {},
     "output_type": "execute_result"
    }
   ],
   "source": [
    "print(\"TRAINING MODEL 1\\n\")\n",
    "model1.fit(x_train, y_cat_train, epochs=5, verbose=1)\n",
    "\n",
    "print(\"TRAINING MODEL 2\\n\")\n",
    "model2.fit(x_train, y_cat_train, epochs=5, verbose=1)\n",
    "\n",
    "print(\"TRAINING MODEL 3\\n\")\n",
    "model3.fit(x_train, y_cat_train, epochs=5, verbose=1)\n",
    "\n",
    "print(\"TRAINING MODEL 4\\n\")\n",
    "model4.fit(x_train, y_cat_train, epochs=5, verbose=1)"
   ]
  },
  {
   "cell_type": "code",
   "execution_count": 39,
   "metadata": {},
   "outputs": [],
   "source": [
    "models = [model1, model2, model3, model4]"
   ]
  },
  {
   "cell_type": "code",
   "execution_count": 43,
   "metadata": {},
   "outputs": [
    {
     "name": "stdout",
     "output_type": "stream",
     "text": [
      "69/69 [==============================] - 1s 9ms/step - loss: 0.7726 - accuracy: 0.8511\n",
      "69/69 [==============================] - 2s 25ms/step - loss: 0.6683 - accuracy: 0.8736\n",
      "69/69 [==============================] - 2s 25ms/step - loss: 0.7173 - accuracy: 0.8644\n",
      "69/69 [==============================] - 2s 25ms/step - loss: 0.5828 - accuracy: 0.8681\n"
     ]
    }
   ],
   "source": [
    "# SONUÇLAR ÜZERİNE\n",
    "#   Yukarıdaki 4 modeli 10 (5*2) epochla çalıştırdım. \n",
    "#   İsabetlilik oranları 5 epochta %84 düzeylerindeydi.\n",
    "#   Daha büyük epochlarla denenebilir.\n",
    "#   Daha da büyük katmanlar için \"Dropout\"lar eklenebilir.\n",
    "\n",
    "for model in models:\n",
    "    model.evaluate(x_test, y_cat_test)"
   ]
  },
  {
   "cell_type": "code",
   "execution_count": 33,
   "metadata": {},
   "outputs": [
    {
     "name": "stdout",
     "output_type": "stream",
     "text": [
      "69/69 [==============================] - 1s 8ms/step\n"
     ]
    },
    {
     "data": {
      "text/plain": [
       "array([[6.0110739e-09, 7.8043610e-10, 9.8648397e-03, ..., 7.3012588e-06,\n",
       "        2.2697767e-02, 5.2296491e-05],\n",
       "       [1.0533574e-03, 5.9860533e-05, 1.1721845e-04, ..., 7.0630005e-05,\n",
       "        9.7982893e-06, 9.9267112e-04],\n",
       "       [2.5021469e-09, 2.4967584e-10, 1.6446811e-11, ..., 9.9983907e-01,\n",
       "        8.5550299e-12, 1.2019110e-09],\n",
       "       ...,\n",
       "       [7.6263185e-10, 8.9066324e-11, 9.7994572e-01, ..., 6.7931062e-08,\n",
       "        1.9754166e-02, 2.7037340e-05],\n",
       "       [2.4441193e-05, 6.0214067e-04, 2.5293099e-05, ..., 9.9569595e-01,\n",
       "        5.9601472e-04, 2.4638046e-04],\n",
       "       [9.7692639e-01, 2.7796562e-04, 3.2611460e-05, ..., 8.8773621e-03,\n",
       "        2.4134095e-04, 1.2571682e-02]], dtype=float32)"
      ]
     },
     "execution_count": 33,
     "metadata": {},
     "output_type": "execute_result"
    }
   ],
   "source": [
    "predictions = model1.predict(x_test)\n",
    "predictions"
   ]
  },
  {
   "cell_type": "code",
   "execution_count": 34,
   "metadata": {},
   "outputs": [
    {
     "name": "stdout",
     "output_type": "stream",
     "text": [
      "[6.0110739e-09 7.8043610e-10 9.8648397e-03 9.6735340e-01 1.9837647e-05\n",
      " 4.5854372e-06 2.1205171e-11 7.3012588e-06 2.2697767e-02 5.2296491e-05] 0.9673534\n",
      "(2183, 10)\n"
     ]
    }
   ],
   "source": [
    "print(predictions[0], predictions[0].max())\n",
    "print(predictions.shape)\n",
    "#Her sınıf için ihtimaller veriyor. argmax yeter."
   ]
  },
  {
   "cell_type": "code",
   "execution_count": 35,
   "metadata": {},
   "outputs": [
    {
     "data": {
      "text/plain": [
       "array([3, 4, 7, ..., 2, 7, 0], dtype=int64)"
      ]
     },
     "execution_count": 35,
     "metadata": {},
     "output_type": "execute_result"
    }
   ],
   "source": [
    "predicted_classes = np.argmax(predictions, axis=1)\n",
    "predicted_classes"
   ]
  },
  {
   "cell_type": "code",
   "execution_count": 36,
   "metadata": {},
   "outputs": [
    {
     "data": {
      "text/plain": [
       "array([3, 4, 7, ..., 2, 7, 0])"
      ]
     },
     "execution_count": 36,
     "metadata": {},
     "output_type": "execute_result"
    }
   ],
   "source": [
    "y_test"
   ]
  },
  {
   "cell_type": "code",
   "execution_count": 37,
   "metadata": {},
   "outputs": [
    {
     "name": "stdout",
     "output_type": "stream",
     "text": [
      "Number of true classifications was 1857.\n",
      "This makes our accuracy in test 0.8506642235455795\n"
     ]
    }
   ],
   "source": [
    "correct = np.sum(predicted_classes == y_test)\n",
    "print(f\"Number of true classifications was {correct}.\\nThis makes our accuracy in test {correct/len(y_test)}\")\n",
    "\n",
    "# Neden manuel? NEDEN OLMASIN?"
   ]
  },
  {
   "cell_type": "code",
   "execution_count": null,
   "metadata": {},
   "outputs": [],
   "source": []
  }
 ],
 "metadata": {
  "kernelspec": {
   "display_name": "Python 3",
   "language": "python",
   "name": "python3"
  },
  "language_info": {
   "codemirror_mode": {
    "name": "ipython",
    "version": 3
   },
   "file_extension": ".py",
   "mimetype": "text/x-python",
   "name": "python",
   "nbconvert_exporter": "python",
   "pygments_lexer": "ipython3",
   "version": "3.11.0"
  }
 },
 "nbformat": 4,
 "nbformat_minor": 2
}
