{
 "cells": [
  {
   "cell_type": "code",
   "execution_count": 33,
   "metadata": {},
   "outputs": [],
   "source": [
    "import tensorflow as tf\n",
    "import cv2\n",
    "import matplotlib.pyplot as plt\n",
    "import numpy as np\n",
    "import os\n",
    "\n",
    "#EKLENEBİLECEKLER: test, dev spliti ve hiperparametre oynancası, loss-time grafikleri"
   ]
  },
  {
   "cell_type": "code",
   "execution_count": 17,
   "metadata": {},
   "outputs": [
    {
     "data": {
      "text/plain": [
       "242"
      ]
     },
     "execution_count": 17,
     "metadata": {},
     "output_type": "execute_result"
    }
   ],
   "source": [
    "spec = cv2.imread(\"specs/class0/1.png\", 0)\n",
    "#plt.imshow(spec, cmap=\"gray\")\n",
    "spec.max()"
   ]
  },
  {
   "cell_type": "code",
   "execution_count": 25,
   "metadata": {},
   "outputs": [
    {
     "name": "stdout",
     "output_type": "stream",
     "text": [
      "len(images) = 8732\n",
      "len(labels) = 8732\n"
     ]
    }
   ],
   "source": [
    "images = []\n",
    "labels = []\n",
    "\n",
    "for i in range(10):\n",
    "    path = \"specs/class\" + str(i)\n",
    "    num = len(os.listdir(path))\n",
    "    for j in range(num):\n",
    "        img_path = path + \"/\" + str(j) + \".png\"\n",
    "        img = cv2.imread(img_path, 0)\n",
    "        img = img / 255\n",
    "        images.append(img)\n",
    "        labels.append(i)\n",
    "\n",
    "images = np.array(images)\n",
    "labels = np.array(labels)\n",
    "\n",
    "print(f\"len(images) = {len(images)}\")\n",
    "print(f\"len(labels) = {len(labels)}\")"
   ]
  },
  {
   "cell_type": "code",
   "execution_count": 26,
   "metadata": {},
   "outputs": [
    {
     "data": {
      "text/plain": [
       "(8732, 100, 100)"
      ]
     },
     "execution_count": 26,
     "metadata": {},
     "output_type": "execute_result"
    }
   ],
   "source": [
    "images.shape"
   ]
  },
  {
   "cell_type": "code",
   "execution_count": 59,
   "metadata": {},
   "outputs": [
    {
     "name": "stdout",
     "output_type": "stream",
     "text": [
      "(6549, 100, 100) (6549,) (2183, 100, 100) (2183,)\n",
      "(6549, 100, 100, 1) (6549,) (2183, 100, 100, 1) (2183,)\n"
     ]
    }
   ],
   "source": [
    "from sklearn.model_selection import train_test_split\n",
    "\n",
    "train_size = 0.75\n",
    "x_train, x_test, y_train, y_test = train_test_split(images, labels, train_size=train_size)\n",
    "print(x_train.shape, y_train.shape, x_test.shape, y_test.shape)\n",
    "\n",
    "#x_test, x_dev, y_test, y_dev = train_test_split(x_test, y_test)\n",
    "\n",
    "x_train = x_train.reshape(6549, 100, 100, 1)\n",
    "x_test = x_test.reshape(2183, 100, 100, 1)\n",
    "print(x_train.shape, y_train.shape, x_test.shape, y_test.shape)\n",
    "#plt.imshow(x_train[0], cmap=\"gray\")"
   ]
  },
  {
   "cell_type": "code",
   "execution_count": 60,
   "metadata": {},
   "outputs": [
    {
     "name": "stdout",
     "output_type": "stream",
     "text": [
      "(6549, 10) [0. 0. 1. 0. 0. 0. 0. 0. 0. 0.]\n"
     ]
    }
   ],
   "source": [
    "from keras.utils import to_categorical\n",
    "\n",
    "y_cat_train = to_categorical(y_train, 10)\n",
    "print(y_cat_train.shape, y_cat_train[0])\n",
    "\n",
    "y_cat_test = to_categorical(y_test, 10)"
   ]
  },
  {
   "cell_type": "code",
   "execution_count": 61,
   "metadata": {},
   "outputs": [],
   "source": [
    "from keras.models import Sequential\n",
    "from keras.layers import Dense, Flatten, Conv2D, MaxPool2D\n",
    "from keras.losses import categorical_crossentropy\n",
    "import warnings\n",
    "warnings.filterwarnings(\"ignore\")"
   ]
  },
  {
   "cell_type": "code",
   "execution_count": 66,
   "metadata": {},
   "outputs": [],
   "source": [
    "img_shape = (100, 100, 1)\n",
    "model = Sequential()\n",
    "\n",
    "model.add(Conv2D(filters=32, kernel_size=(4,4),input_shape=img_shape, activation='relu',))\n",
    "model.add(MaxPool2D(pool_size=(2, 2)))\n",
    "\n",
    "model.add(Conv2D(filters=32, kernel_size=(4,4),input_shape=img_shape, activation='relu',))\n",
    "model.add(MaxPool2D(pool_size=(2, 2)))\n",
    "\n",
    "model.add(Flatten())\n",
    "model.add(Dense(256, activation='relu'))\n",
    "model.add(Dense(10, activation='softmax'))\n",
    "\n",
    "model.compile(optimizer=\"adam\", loss=categorical_crossentropy, metrics=['accuracy'])\n"
   ]
  },
  {
   "cell_type": "code",
   "execution_count": 67,
   "metadata": {},
   "outputs": [
    {
     "name": "stdout",
     "output_type": "stream",
     "text": [
      "Model: \"sequential_8\"\n",
      "_________________________________________________________________\n",
      " Layer (type)                Output Shape              Param #   \n",
      "=================================================================\n",
      " conv2d_14 (Conv2D)          (None, 97, 97, 32)        544       \n",
      "                                                                 \n",
      " max_pooling2d_12 (MaxPooli  (None, 48, 48, 32)        0         \n",
      " ng2D)                                                           \n",
      "                                                                 \n",
      " conv2d_15 (Conv2D)          (None, 45, 45, 32)        16416     \n",
      "                                                                 \n",
      " max_pooling2d_13 (MaxPooli  (None, 22, 22, 32)        0         \n",
      " ng2D)                                                           \n",
      "                                                                 \n",
      " flatten_6 (Flatten)         (None, 15488)             0         \n",
      "                                                                 \n",
      " dense_12 (Dense)            (None, 256)               3965184   \n",
      "                                                                 \n",
      " dense_13 (Dense)            (None, 10)                2570      \n",
      "                                                                 \n",
      "=================================================================\n",
      "Total params: 3984714 (15.20 MB)\n",
      "Trainable params: 3984714 (15.20 MB)\n",
      "Non-trainable params: 0 (0.00 Byte)\n",
      "_________________________________________________________________\n"
     ]
    }
   ],
   "source": [
    "model.summary()"
   ]
  },
  {
   "cell_type": "code",
   "execution_count": 94,
   "metadata": {},
   "outputs": [
    {
     "name": "stdout",
     "output_type": "stream",
     "text": [
      "Epoch 1/2\n",
      "205/205 [==============================] - 10s 50ms/step - loss: 0.0665 - accuracy: 0.9818\n",
      "Epoch 2/2\n",
      "205/205 [==============================] - 11s 52ms/step - loss: 0.0458 - accuracy: 0.9875\n"
     ]
    },
    {
     "data": {
      "text/plain": [
       "<keras.src.callbacks.History at 0x15178b5c2d0>"
      ]
     },
     "execution_count": 94,
     "metadata": {},
     "output_type": "execute_result"
    }
   ],
   "source": [
    "model.fit(x_train, y_cat_train, epochs=5, verbose=1)\n",
    "\n",
    "#Önce 5, sonra 7 denendi."
   ]
  },
  {
   "cell_type": "code",
   "execution_count": 95,
   "metadata": {},
   "outputs": [
    {
     "data": {
      "text/plain": [
       "['loss', 'accuracy']"
      ]
     },
     "execution_count": 95,
     "metadata": {},
     "output_type": "execute_result"
    }
   ],
   "source": [
    "model.metrics_names"
   ]
  },
  {
   "cell_type": "code",
   "execution_count": 96,
   "metadata": {},
   "outputs": [
    {
     "name": "stdout",
     "output_type": "stream",
     "text": [
      "69/69 [==============================] - 1s 13ms/step - loss: 0.5923 - accuracy: 0.8745\n"
     ]
    },
    {
     "data": {
      "text/plain": [
       "[0.5923261046409607, 0.874484658241272]"
      ]
     },
     "execution_count": 96,
     "metadata": {},
     "output_type": "execute_result"
    }
   ],
   "source": [
    "model.evaluate(x_test, y_cat_test)\n",
    "\n",
    "# İsabetlilik %85, meeeh. Daha çalışsa daha yapar bu aslan."
   ]
  },
  {
   "cell_type": "code",
   "execution_count": 99,
   "metadata": {},
   "outputs": [
    {
     "name": "stdout",
     "output_type": "stream",
     "text": [
      "69/69 [==============================] - 1s 12ms/step\n"
     ]
    },
    {
     "data": {
      "text/plain": [
       "array([[6.3565010e-16, 1.3185196e-10, 3.5958569e-03, ..., 2.1928512e-08,\n",
       "        2.6085537e-08, 9.9640417e-01],\n",
       "       [6.0884305e-35, 1.0000000e+00, 4.9076602e-23, ..., 4.7207475e-16,\n",
       "        7.0858737e-23, 2.2863266e-15],\n",
       "       [9.9619544e-01, 8.1589373e-05, 2.8890969e-05, ..., 1.3099661e-06,\n",
       "        7.7356617e-06, 1.0566964e-03],\n",
       "       ...,\n",
       "       [3.7863176e-12, 2.4877473e-14, 3.5341738e-08, ..., 7.3961964e-10,\n",
       "        9.9998868e-01, 2.2815710e-10],\n",
       "       [2.7985737e-01, 1.7958368e-05, 8.0215953e-02, ..., 4.2712036e-01,\n",
       "        1.7489624e-03, 1.2234592e-01],\n",
       "       [0.0000000e+00, 1.1972965e-36, 7.5691267e-24, ..., 1.8488909e-30,\n",
       "        1.0000000e+00, 4.6722684e-31]], dtype=float32)"
      ]
     },
     "execution_count": 99,
     "metadata": {},
     "output_type": "execute_result"
    }
   ],
   "source": [
    "predictions = model.predict(x_test)\n",
    "predictions"
   ]
  },
  {
   "cell_type": "code",
   "execution_count": 100,
   "metadata": {},
   "outputs": [
    {
     "name": "stdout",
     "output_type": "stream",
     "text": [
      "[6.3565010e-16 1.3185196e-10 3.5958569e-03 5.7637278e-10 1.9311379e-13\n",
      " 9.2885666e-17 2.5172986e-22 2.1928512e-08 2.6085537e-08 9.9640417e-01] 0.9964042\n",
      "(2183, 10)\n"
     ]
    }
   ],
   "source": [
    "print(predictions[0], predictions[0].max())\n",
    "print(predictions.shape)\n",
    "#Her sınıf için ihtimaller veriyor. argmax yeter."
   ]
  },
  {
   "cell_type": "code",
   "execution_count": 101,
   "metadata": {},
   "outputs": [
    {
     "data": {
      "text/plain": [
       "array([9, 1, 0, ..., 8, 7, 8], dtype=int64)"
      ]
     },
     "execution_count": 101,
     "metadata": {},
     "output_type": "execute_result"
    }
   ],
   "source": [
    "predicted_classes = np.argmax(predictions, axis=1)\n",
    "predicted_classes"
   ]
  },
  {
   "cell_type": "code",
   "execution_count": 102,
   "metadata": {},
   "outputs": [
    {
     "data": {
      "text/plain": [
       "array([9, 1, 0, ..., 8, 9, 8])"
      ]
     },
     "execution_count": 102,
     "metadata": {},
     "output_type": "execute_result"
    }
   ],
   "source": [
    "y_test"
   ]
  },
  {
   "cell_type": "code",
   "execution_count": 103,
   "metadata": {},
   "outputs": [
    {
     "name": "stdout",
     "output_type": "stream",
     "text": [
      "Number of true classifications was 1909.\n",
      "This makes our accuracy in test 0.8744846541456711\n"
     ]
    }
   ],
   "source": [
    "correct = np.sum(predicted_classes == y_test)\n",
    "print(f\"Number of true classifications was {correct}.\\nThis makes our accuracy in test {correct/len(y_test)}\")\n",
    "\n",
    "# Neden manuel? NEDEN OLMASIN?"
   ]
  }
 ],
 "metadata": {
  "kernelspec": {
   "display_name": "Python 3",
   "language": "python",
   "name": "python3"
  },
  "language_info": {
   "codemirror_mode": {
    "name": "ipython",
    "version": 3
   },
   "file_extension": ".py",
   "mimetype": "text/x-python",
   "name": "python",
   "nbconvert_exporter": "python",
   "pygments_lexer": "ipython3",
   "version": "3.11.0"
  }
 },
 "nbformat": 4,
 "nbformat_minor": 2
}
