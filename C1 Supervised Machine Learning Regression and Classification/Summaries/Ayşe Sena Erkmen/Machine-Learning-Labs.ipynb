{
 "cells": [
  {
   "cell_type": "code",
   "execution_count": 2,
   "id": "7700804b-169e-4f6d-a73e-ce496ee17b18",
   "metadata": {},
   "outputs": [],
   "source": [
    "import numpy as np"
   ]
  },
  {
   "cell_type": "code",
   "execution_count": 3,
   "id": "ed9f33cb-8998-43a0-9963-c181d0870f45",
   "metadata": {},
   "outputs": [
    {
     "name": "stdout",
     "output_type": "stream",
     "text": [
      "Numpy dizisi :\n",
      "[ 0  1  2  3  4  5  6  7  8  9 10]\n"
     ]
    }
   ],
   "source": [
    "#numpy array'ler homojendir yani dizi içindeki tüm elemanlar aynı veri tipinde olmalı  \n",
    "numpy_array = np.array([0,1,2,3,4,5,6,7,8,9,10,])\n",
    "print(\"Numpy dizisi :\")\n",
    "print(numpy_array)"
   ]
  },
  {
   "cell_type": "code",
   "execution_count": 4,
   "id": "2fe2892c-3602-4864-8904-6209c16d4a4a",
   "metadata": {},
   "outputs": [
    {
     "name": "stdout",
     "output_type": "stream",
     "text": [
      "1\n",
      "2\n",
      "2\n",
      "[11 12 13 14 15]\n",
      "[[11 12 13 14 15]]\n",
      "[[20 21 22 23]\n",
      " [24 25 26 27]]\n"
     ]
    }
   ],
   "source": [
    "# .ndim ifadesi numpy array'in boyutunu döndürür\n",
    "numpy_array1=np.array([11,12,13,14,15])\n",
    "numpy_array2=np.array([[11,12,13,14,15]])\n",
    "numpy_array3=np.array([[20,21,22,23,],[24,25,26,27]])\n",
    "print(numpy_array1.ndim)\n",
    "print(numpy_array2.ndim)\n",
    "print(numpy_array3.ndim)\n",
    "print(numpy_array1)\n",
    "print(numpy_array2)\n",
    "print(numpy_array3)"
   ]
  },
  {
   "cell_type": "code",
   "execution_count": 5,
   "id": "3be5e8ee-f8d0-44d1-832d-170de46b78d5",
   "metadata": {},
   "outputs": [
    {
     "name": "stdout",
     "output_type": "stream",
     "text": [
      "1\n",
      "2\n",
      "2\n",
      "[11 12 13 14 15]\n",
      "[[11 12 13 14 15]]\n",
      "[[20 21 22 23]\n",
      " [24 25 26 27]]\n"
     ]
    }
   ],
   "source": [
    "# .ndim ifadesi numpy array'in boyutunu döndürür\n",
    "numpy_array1=np.array([11,12,13,14,15])\n",
    "numpy_array2=np.array([[11,12,13,14,15]])\n",
    "numpy_array3=np.array([[20,21,22,23,],[24,25,26,27]])\n",
    "print(numpy_array1.ndim)\n",
    "print(numpy_array2.ndim)\n",
    "print(numpy_array3.ndim)\n",
    "print(numpy_array1)\n",
    "print(numpy_array2)\n",
    "print(numpy_array3)"
   ]
  },
  {
   "cell_type": "code",
   "execution_count": 6,
   "id": "3c1476d9-e7d9-4496-95dd-8893972f0da9",
   "metadata": {},
   "outputs": [
    {
     "name": "stdout",
     "output_type": "stream",
     "text": [
      "(5,)\n",
      "(1, 5)\n",
      "1\n",
      "5\n",
      "(5,)\n",
      "(2, 4)\n",
      "4\n",
      "(4,)\n"
     ]
    }
   ],
   "source": [
    "#.shape numpy arrayinin kaç satır ve sutündan oluştuğunu gösteren bir tupple dönen bir fonksiyon\n",
    "#numpy_array1 için (5,) -> ???  numpy_array2 için (1, 5) -> 1 satır 5 sutün numpy_array3 için (2, 4) -> 2 satır 4 sutün\n",
    "print(numpy_array1.shape)#.shape ifadesi, her boyuttaki eleman sayısını gösterir. numpy_array1 için tek boyutlu olduğu için ikinci bir sayı yoktur ve (5,) olarak döner\n",
    "print(numpy_array2.shape)#normalde numpy_array2 için (1, 5) dönerken shape[0] dediğimde 1 shape[1] dediğimde 5 dönüyor\n",
    "print(numpy_array2.shape[0])#bu şekilde yazdığımızda shape fonksiyonundan dönen tupple'ın hangi indisini yazacağımızı söylemiş oluyoruz sanırım\n",
    "print(numpy_array2.shape[1])\n",
    "print(numpy_array2[0].shape)\n",
    "print(numpy_array3.shape)\n",
    "print(numpy_array3.shape[1])\n",
    "print(numpy_array3[0].shape)#tek boyutlu dizi gibi döndürmüş oldum"
   ]
  },
  {
   "cell_type": "code",
   "execution_count": 7,
   "id": "6c1867a6-4e77-4ec8-9d30-58b24eda2682",
   "metadata": {},
   "outputs": [
    {
     "name": "stdout",
     "output_type": "stream",
     "text": [
      "5\n",
      "1\n",
      "2\n"
     ]
    }
   ],
   "source": [
    "#burada anlamadığım kısımlar var malesef ????? matris için eleman sayısı mı döndürecek yoksa satır sayısını mı \n",
    "#len fonksiyonu nesnelerin uzunluğunu döndürür.numpy_array tek boyutlu bir dizi olduğu için ilk boyutundaki eleman sayısını döndürür\n",
    "#numpy_array2 ve numpy_array3 iki boyutlu dizeler olduğu için bu dizilerinin ilk boyutundaki eleman sayısını döndürür bu da satır sayısına\n",
    "# eşittir çünkü ilk boyut dizi içindeki dizilerin pointerlarını tutar bu da satır sayıma eşit\n",
    "m = len(numpy_array1)\n",
    "n = len(numpy_array2)\n",
    "k = len(numpy_array3)\n",
    "print(m)\n",
    "print(n)\n",
    "print(k)"
   ]
  },
  {
   "cell_type": "code",
   "execution_count": 17,
   "id": "87e57756-50ba-47ee-8293-5699a0a0bcca",
   "metadata": {},
   "outputs": [
    {
     "name": "stdout",
     "output_type": "stream",
     "text": [
      "a = [0 1 2 3 4 5 6 7 8 9]\n",
      "c = [2 3 4 5 6]\n",
      "d= [2 4 6]\n",
      "w = [ 0  1  2  3  4  5  6  7  8  9 10 11 12 13 14 15 16 17]\n",
      "q = [ 0  3  6  9 12 15]\n"
     ]
    }
   ],
   "source": [
    "a = np.arange(10)\n",
    "print(f\"a = {a}\")\n",
    "c = a[2:7:1] # 2. indisden başlayıp 1 indis geçerek 7. indise kadar diziye kesik atıyoruz  yeni dizi oluşturyoruz\n",
    "print(f\"c = {c}\")\n",
    "d = a[2:8:2] #2. indisden başlayıp 2 indis geçerek 8. indise kadar diziye kesik atıyoruz bununla yeni dizi oluşturyoruz\n",
    "print(f\"d= {d}\")\n",
    "w  = np.arange(18)\n",
    "print(f\"w = {w}\")\n",
    "q = w[0:17:3]\n",
    "print(f\"q = {q}\")\n"
   ]
  },
  {
   "cell_type": "code",
   "execution_count": 25,
   "id": "26f354f6-1105-4150-91bf-2f6078eab5e4",
   "metadata": {},
   "outputs": [
    {
     "name": "stdout",
     "output_type": "stream",
     "text": [
      "w = [ 0  1  2  3  4  5  6  7  8  9 10 11 12 13 14 15 16 17]\n",
      "z = [  0  -1  -2  -3  -4  -5  -6  -7  -8  -9 -10 -11 -12 -13 -14 -15 -16 -17]\n",
      "sum of w = 153\n",
      "sum of z = -153\n",
      "mean of w = 8.5\n",
      "w^2 = [  0   1   4   9  16  25  36  49  64  81 100 121 144 169 196 225 256 289]\n"
     ]
    }
   ],
   "source": [
    "w  = np.arange(18)\n",
    "print(f\"w = {w}\")\n",
    "z = -w\n",
    "print(f\"z = {z}\")\n",
    "x = np.sum(w)\n",
    "print(f\"sum of w = {x}\")\n",
    "x = np.sum(z)\n",
    "print(f\"sum of z = {x}\")\n",
    "x = np.mean(w)\n",
    "print(f\"mean of w = {x}\")\n",
    "x = w**2\n",
    "print(f\"w^2 = {x}\")\n"
   ]
  },
  {
   "cell_type": "code",
   "execution_count": 37,
   "id": "a867d031-2658-4bd6-9080-936fdc1e0f0f",
   "metadata": {},
   "outputs": [
    {
     "name": "stdout",
     "output_type": "stream",
     "text": [
      "k = [ 0  1  2  3  4  5  6  7  8  9 10 11 12 13 14 15 16 17 18 19]\n",
      "l = [ 0  6 12 18]\n",
      "m = [0 3 6 9]\n",
      "n = [0 2 4 6]\n",
      "m+n = [ 0  5 10 15]\n",
      "m*n = [ 0  6 24 54]\n",
      "l/n = [nan  3.  3.  3.]\n",
      "l/m = [nan  2.  2.  2.]\n"
     ]
    },
    {
     "name": "stderr",
     "output_type": "stream",
     "text": [
      "C:\\Users\\erkme\\AppData\\Local\\Temp\\ipykernel_16948\\2694456872.py:11: RuntimeWarning: invalid value encountered in divide\n",
      "  print(f\"l/n = {l/n}\")\n",
      "C:\\Users\\erkme\\AppData\\Local\\Temp\\ipykernel_16948\\2694456872.py:12: RuntimeWarning: invalid value encountered in divide\n",
      "  print(f\"l/m = {l/m}\")\n"
     ]
    }
   ],
   "source": [
    "k =np.arange(20)\n",
    "print(f\"k = {k}\")\n",
    "l = k[0:20:6]\n",
    "print(f\"l = {l}\")\n",
    "m = k[0:10:3]\n",
    "print(f\"m = {m}\")\n",
    "n = k[0:7:2]\n",
    "print(f\"n = {n}\")\n",
    "print(f\"m+n = {m+n}\")\n",
    "print(f\"m*n = {m*n}\")\n",
    "print(f\"l/n = {l/n}\")\n",
    "print(f\"l/m = {l/m}\")\n"
   ]
  },
  {
   "cell_type": "markdown",
   "id": "78d3a167-ebda-4a98-a541-387db0a0389a",
   "metadata": {},
   "source": [
    "Multiple Variable Linear Regression"
   ]
  },
  {
   "cell_type": "code",
   "execution_count": 1,
   "id": "be850432-090d-45ed-b17c-2b3daff2c624",
   "metadata": {},
   "outputs": [],
   "source": [
    "import numpy as np"
   ]
  },
  {
   "cell_type": "code",
   "execution_count": 2,
   "id": "3f48a19f-907b-4f91-9fdd-ed35a4cee2d9",
   "metadata": {},
   "outputs": [],
   "source": [
    "x_train = np.array([[2104,5,1,45],[1416,3,2,40],[852,2,1,35],[957,3,1,28],[1758,4,1,38]])\n",
    "y_train = np.array([460,232,178,198,442])"
   ]
  },
  {
   "cell_type": "code",
   "execution_count": 3,
   "id": "bbb7e40a-b1d3-4332-af80-300d2b0cdc39",
   "metadata": {},
   "outputs": [],
   "source": [
    "#parametrelerimiz için W ,b için başlangıç değerleri\n",
    "b_init = 678.345\n",
    "W_init = np.array([0.425457,20.346126,7.253751,-10.98248])"
   ]
  },
  {
   "cell_type": "code",
   "execution_count": 4,
   "id": "402abe41-b8ac-4c62-9f53-b7858bd7aafb",
   "metadata": {},
   "outputs": [],
   "source": [
    "# tahmin yapmam lazım sonra yaptığım tahminle hatayı hesaplayıp costu bulmam  gradiyan hesaplamam lazım sonra bu gradiyan ile\n",
    "#cost üzerinde gradient ile inerek costun min değerini bulup bu W ve b yi bulmam lazım  \n",
    "def predict(x_train,W_init,b_init):\n",
    "    p =np.dot(x_train,W_init)+b_init\n",
    "    return p   "
   ]
  },
  {
   "cell_type": "code",
   "execution_count": 5,
   "id": "54d1cb0a-7960-4bbc-9912-9200eb451d40",
   "metadata": {},
   "outputs": [],
   "source": [
    "def compute_cost(x_train,y_train,W_init,b_init):\n",
    "    cost = 0 \n",
    "    m = x_train.shape[0]\n",
    "    for i in range(m):\n",
    "        predict1 = predict(x_train[i],W_init,b_init)#yukarıda yazdığımız tahmin fonksiyonunu çağırarak başlangıç parametreleriyle tahmin üretiyoruz\n",
    "        cost = cost +(predict1 - y_train[i])**2 \n",
    "    cost = cost /2*m\n",
    "    return cost  "
   ]
  },
  {
   "cell_type": "code",
   "execution_count": 6,
   "id": "1023916e-5373-450d-a78f-9ffbbe8156a3",
   "metadata": {},
   "outputs": [],
   "source": [
    "def gradient(x_train, y_train, W_init, b_init):\n",
    "    m = x_train.shape[0]\n",
    "    d_W = np.zeros((4,))\n",
    "    d_b = 0\n",
    "\n",
    "    for i in range(m):\n",
    "        error = predict(x_train[i], W_init, b_init) - y_train[i]\n",
    "        for j in range(4):\n",
    "            d_W += error * x_train[i, j]\n",
    "        d_b += error\n",
    "\n",
    "    d_W /= m\n",
    "    d_b /= m\n",
    "\n",
    "    return d_W, d_b"
   ]
  },
  {
   "cell_type": "code",
   "execution_count": 7,
   "id": "c387b868-f4a6-41d1-81e9-f8bf26fa380a",
   "metadata": {},
   "outputs": [],
   "source": [
    "def gradient_descent(x_train,y_train,W_init,b_init):\n",
    "    iterations =10\n",
    "    alfa =5.0e-9 \n",
    "    \n",
    "    for i in range(iterations):\n",
    "        d_W,d_b = gradient(x_train,y_train,W_init,b_init)\n",
    "        W_init = W_init-alfa*d_W\n",
    "        b_init = b_init-alfa*d_b\n",
    "        #print(f\" W  = {W_init}\")\n",
    "        #print(f\" b = {b_init}\")\n",
    "        print(f\"cost = {compute_cost(x_train,y_train,W_init,b_init)}\")\n",
    "\n",
    "    return W_init,b_init\n",
    "    \n",
    "    "
   ]
  },
  {
   "cell_type": "code",
   "execution_count": 8,
   "id": "adea0476-646b-4ee3-892c-2c596370609e",
   "metadata": {},
   "outputs": [
    {
     "name": "stdout",
     "output_type": "stream",
     "text": [
      "cost = 5199699.758410335\n",
      "cost = 5085018.858593855\n",
      "cost = 4973026.7310209945\n",
      "cost = 4863660.3355847495\n",
      "cost = 4756858.11019661\n",
      "cost = 4652559.936133389\n",
      "cost = 4550707.10419656\n",
      "cost = 4451242.281664956\n",
      "cost = 4354109.480022342\n",
      "cost = 4259254.023441588\n"
     ]
    }
   ],
   "source": [
    "w,b= gradient_descent(x_train,y_train,W_init,b_init)"
   ]
  },
  {
   "cell_type": "markdown",
   "id": "1920ead5-9c28-480b-8f05-816349d7cad3",
   "metadata": {},
   "source": [
    "Sigmoid Function"
   ]
  },
  {
   "cell_type": "code",
   "execution_count": 1,
   "id": "b4f5a33c-fd9e-485e-b993-4fa4b73406b2",
   "metadata": {},
   "outputs": [],
   "source": [
    "import numpy as np\n",
    "import matplotlib.pyplot as plt"
   ]
  },
  {
   "cell_type": "code",
   "execution_count": 3,
   "id": "b5b2bb90-fe27-4b0e-9581-fab079ef228a",
   "metadata": {},
   "outputs": [],
   "source": [
    "input_array = np.array([7,8,9])\n",
    "exp_array = np.exp(input_array)\n",
    "#exp() fonksiyonu bir numpy arrayinin içindeki elemanların exponansiyellerini hesaplayan bir fonksiyon "
   ]
  },
  {
   "cell_type": "code",
   "execution_count": 4,
   "id": "97f5178c-0607-4d07-b5ea-673e0eb6eaf8",
   "metadata": {},
   "outputs": [
    {
     "name": "stdout",
     "output_type": "stream",
     "text": [
      "inputs : [7 8 9]\n",
      "outputs : [1096.63315843 2980.95798704 8103.08392758]\n"
     ]
    }
   ],
   "source": [
    "print(\"inputs :\",input_array)\n",
    "print(\"outputs :\",exp_array)"
   ]
  },
  {
   "cell_type": "code",
   "execution_count": 72,
   "id": "3c26e812-7c94-4a65-a92b-f6744cc895d0",
   "metadata": {},
   "outputs": [],
   "source": [
    "def sigmoid(z):\n",
    "    g = 1 /( 1 + np.exp(-z))\n",
    "    return g"
   ]
  },
  {
   "cell_type": "code",
   "execution_count": 73,
   "id": "8fa15a2d-59dc-4e58-aed1-c27973a2e481",
   "metadata": {},
   "outputs": [
    {
     "name": "stdout",
     "output_type": "stream",
     "text": [
      "inputs [-5 -4 -3 -2 -1  0  1  2  3  4]\n",
      "outputs [0.00669285 0.01798621 0.04742587 0.11920292 0.26894142 0.5\n",
      " 0.73105858 0.88079708 0.95257413 0.98201379]\n"
     ]
    }
   ],
   "source": [
    "z = np.arange(-5,5)\n",
    "y = sigmoid(z)\n",
    "print(\"inputs\",z)\n",
    "print(\"outputs\",y)"
   ]
  },
  {
   "cell_type": "code",
   "execution_count": 74,
   "id": "b3a8dab8-8896-4030-9920-168140edacb8",
   "metadata": {},
   "outputs": [
    {
     "name": "stdout",
     "output_type": "stream",
     "text": [
      "Input (z), Output (sigmoid(z))\n",
      "[[-5.     0.007]\n",
      " [-4.     0.018]\n",
      " [-3.     0.047]\n",
      " [-2.     0.119]\n",
      " [-1.     0.269]\n",
      " [ 0.     0.5  ]\n",
      " [ 1.     0.731]\n",
      " [ 2.     0.881]\n",
      " [ 3.     0.953]\n",
      " [ 4.     0.982]]\n"
     ]
    }
   ],
   "source": [
    "np.set_printoptions(precision=3) \n",
    "print(\"Input (z), Output (sigmoid(z))\")\n",
    "print(np.c_[z, y])"
   ]
  },
  {
   "cell_type": "markdown",
   "id": "2a4cfaa9-2f2c-4b32-bc65-ea5688c46b32",
   "metadata": {},
   "source": [
    "Logistic Regression"
   ]
  },
  {
   "cell_type": "code",
   "execution_count": 75,
   "id": "138961ec-d30a-469a-af74-66284459bc6a",
   "metadata": {},
   "outputs": [],
   "source": [
    "import numpy as np\n"
   ]
  },
  {
   "cell_type": "code",
   "execution_count": 76,
   "id": "3c97eee2-2261-42fa-8c8d-a96de8a4a31c",
   "metadata": {},
   "outputs": [],
   "source": [
    "X_train = np.array([[0.5, 1.5], [1,1], [1.5, 0.5], [3, 0.5], [2, 2], [1, 2.5]])\n",
    "y_train = np.array([0, 0, 0, 1, 1, 1])"
   ]
  },
  {
   "cell_type": "code",
   "execution_count": 77,
   "id": "63be4d8f-9cb2-42a4-8ed5-f5e60dcdaa62",
   "metadata": {},
   "outputs": [],
   "source": [
    "def sigmoid(z):\n",
    "    return 1 / (1 + np.exp(-z))"
   ]
  },
  {
   "cell_type": "code",
   "execution_count": 78,
   "id": "42701186-f26a-44e4-8f02-56ec72d352af",
   "metadata": {},
   "outputs": [],
   "source": [
    "def gradient(x,y,w,b):\n",
    "    m = X_train.shape[0]\n",
    "    n = X_train.shape[1]\n",
    "    dj_W = np.zeros((n,))\n",
    "    dj_b=0\n",
    "    for i in range(m):\n",
    "        predict = sigmoid(np.dot(x[i],w) + b) # w ile x değerlerini vektörel olarak çarptım daha sonra b değerini ekledim w'nin başlangıç değeri için tahminimi bulmuş oldum \n",
    "        error = predict - y[i]\n",
    "        for j in range(n):\n",
    "            dj_W[j] += error*x[i][j]\n",
    "        dj_b +=error\n",
    "\n",
    "    dj_W =dj_W /m\n",
    "    dj_b =dj_b /m\n",
    "    return  dj_W,dj_b"
   ]
  },
  {
   "cell_type": "code",
   "execution_count": 69,
   "id": "d73e7adf-5d87-4943-ba38-01fcaf461bf2",
   "metadata": {},
   "outputs": [
    {
     "name": "stdout",
     "output_type": "stream",
     "text": [
      "dj_db: 0.49861806546328574\n",
      "dj_dw: [0.498333393278696, 0.49883942983996693]\n"
     ]
    }
   ],
   "source": [
    "X_tmp = np.array([[0.5, 1.5], [1,1], [1.5, 0.5], [3, 0.5], [2, 2], [1, 2.5]])\n",
    "y_tmp = np.array([0, 0, 0, 1, 1, 1])\n",
    "w_tmp = np.array([2.,3.])\n",
    "b_tmp = 1.\n",
    "dj_dw_tmp,dj_db_tmp = gradient(X_tmp, y_tmp, w_tmp, b_tmp)\n",
    "print(f\"dj_db: {dj_db_tmp}\" )\n",
    "print(f\"dj_dw: {dj_dw_tmp.tolist()}\" )"
   ]
  },
  {
   "cell_type": "code",
   "execution_count": 79,
   "id": "c9adfa19-ab70-4acc-8949-5086a269360e",
   "metadata": {},
   "outputs": [],
   "source": [
    "def gradient_descent(x,y,W,b):\n",
    "    alpha = 0.1\n",
    "    for i in range (10000):\n",
    "          dj_W ,dj_b=gradient(x,y,W,b)\n",
    "\n",
    "          W = W - alpha * dj_W\n",
    "          b = b - alpha* dj_b\n",
    "    return W,b"
   ]
  },
  {
   "cell_type": "code",
   "execution_count": 80,
   "id": "3ddf7be4-b31d-4e04-857f-81c6ea696c26",
   "metadata": {},
   "outputs": [
    {
     "name": "stdout",
     "output_type": "stream",
     "text": [
      "\n",
      "updated parameters: w:[5.281 5.078], b:-14.222409982019837\n"
     ]
    }
   ],
   "source": [
    "w_tmp  = np.zeros_like(X_train[0])\n",
    "b_tmp  = 0.\n",
    "w_out, b_out = gradient_descent(X_train, y_train, w_tmp, b_tmp) \n",
    "print(f\"\\nupdated parameters: w:{w_out}, b:{b_out}\")"
   ]
  },
  {
   "cell_type": "code",
   "execution_count": null,
   "id": "d0e73816-e2ad-4607-8baa-3dce88bd84cc",
   "metadata": {},
   "outputs": [],
   "source": []
  }
 ],
 "metadata": {
  "kernelspec": {
   "display_name": "Python 3 (ipykernel)",
   "language": "python",
   "name": "python3"
  },
  "language_info": {
   "codemirror_mode": {
    "name": "ipython",
    "version": 3
   },
   "file_extension": ".py",
   "mimetype": "text/x-python",
   "name": "python",
   "nbconvert_exporter": "python",
   "pygments_lexer": "ipython3",
   "version": "3.12.0"
  }
 },
 "nbformat": 4,
 "nbformat_minor": 5
}
